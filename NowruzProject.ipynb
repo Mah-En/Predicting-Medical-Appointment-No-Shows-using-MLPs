{
 "cells": [
  {
   "cell_type": "code",
   "execution_count": 1,
   "metadata": {},
   "outputs": [],
   "source": [
    "import pandas as pd\n",
    "import numpy as np\n",
    "import torch\n",
    "from torch import nn\n",
    "from torch import optim\n",
    "from torch.utils.data import DataLoader, TensorDataset\n",
    "import seaborn as sns\n",
    "import matplotlib.pyplot as plt\n",
    "\n",
    "from sklearn.utils import resample\n",
    "from sklearn.preprocessing import StandardScaler, LabelEncoder\n",
    "\n",
    "from imblearn.over_sampling import SMOTE"
   ]
  },
  {
   "cell_type": "code",
   "execution_count": 2,
   "metadata": {},
   "outputs": [],
   "source": [
    "data = pd.read_csv('Medical_appointment.csv')"
   ]
  },
  {
   "cell_type": "code",
   "execution_count": 3,
   "metadata": {},
   "outputs": [],
   "source": [
    "def standard_scaling(X):\n",
    "    for feature in num_features:\n",
    "        X[feature] = (X[feature] - X[feature].mean()) / X[feature].std()\n",
    "    return X    "
   ]
  },
  {
   "cell_type": "code",
   "execution_count": 4,
   "metadata": {},
   "outputs": [
    {
     "name": "stdout",
     "output_type": "stream",
     "text": [
      "Class distribution after SMOTE:\n",
      "No-show\n",
      "0    88208\n",
      "1    88208\n",
      "Name: count, dtype: int64\n"
     ]
    }
   ],
   "source": [
    "\n",
    "num_features = data.select_dtypes(include=['int64', 'float64']).columns\n",
    "cat_features = data.select_dtypes(include=['object']).columns\n",
    "# missing values \n",
    "data[num_features] = data[num_features].fillna(data[num_features].mean())\n",
    "data[cat_features] = data[cat_features].fillna(data[cat_features].mode().iloc[0])\n",
    "\n",
    "label_encoder = LabelEncoder()\n",
    "for feature in cat_features:\n",
    "    data[feature] = label_encoder.fit_transform(data[feature])\n",
    "\n",
    "X = data.drop('No-show', axis=1)\n",
    "Y = data['No-show']\n",
    "\n",
    "X = standard_scaling(X)\n",
    "\n",
    "smote = SMOTE(random_state=42)\n",
    "\n",
    "X, Y = smote.fit_resample(X, Y)\n",
    "\n",
    "print(\"Class distribution after SMOTE:\")\n",
    "print(pd.Series(Y).value_counts())\n"
   ]
  },
  {
   "cell_type": "code",
   "execution_count": 5,
   "metadata": {},
   "outputs": [],
   "source": [
    "def split_data(X, y, ratio, random_seed=42):\n",
    "    np.random.seed(random_seed)\n",
    "    indices = np.arange(len(X))\n",
    "    np.random.shuffle(indices)\n",
    "    test_size = int(len(X) * ratio)\n",
    "    test_indices = indices[:test_size]\n",
    "    train_indices = indices[test_size:]\n",
    "\n",
    "    X_train , X_test = X.iloc[train_indices], X.iloc[test_indices]\n",
    "    y_train , y_test = y.iloc[train_indices], y.iloc[test_indices]\n",
    "\n",
    "    return X_train, X_test, y_train, y_test\n",
    "    \n",
    "\n",
    "X_train , X_test , Y_train , Y_test =  split_data(X, Y, ratio=0.2)\n",
    "# print(\"Initial X shape:\", X.shape)\n",
    "# print(\"Training set shape:\", X_train.shape, Y_train.shape)\n",
    "# print(\"Testing set shape:\", X_test.shape, Y_test.shape)"
   ]
  },
  {
   "cell_type": "code",
   "execution_count": 6,
   "metadata": {},
   "outputs": [
    {
     "data": {
      "image/png": "[encoded data removed]",
      "text/plain": [
       "<Figure size 1000x600 with 1 Axes>"
      ]
     },
     "metadata": {},
     "output_type": "display_data"
    }
   ],
   "source": [
    "labels = pd.Series(Y.squeeze())\n",
    "plt.figure(figsize=(10, 6))\n",
    "sns.countplot(x=labels)\n",
    "plt.title('Class Distribution')\n",
    "plt.xlabel('Class')\n",
    "plt.ylabel('Frequency')\n",
    "plt.show()"
   ]
  },
  {
   "cell_type": "code",
   "execution_count": 7,
   "metadata": {},
   "outputs": [],
   "source": [
    "X_train_np = X_train.values.astype(np.float32)\n",
    "X_test_np = X_test.values.astype(np.float32)\n",
    "Y_train_np = Y_train.values.astype(np.float32)\n",
    "Y_test_np = Y_test.values.astype(np.float32)\n",
    "\n",
    "\n",
    "X_train = torch.tensor(X_train_np, dtype=torch.float32)\n",
    "X_test = torch.tensor(X_test_np, dtype=torch.float32)\n",
    "y_train = torch.tensor(Y_train_np, dtype=torch.float32).reshape(-1, 1)\n",
    "y_test = torch.tensor(Y_test_np, dtype=torch.float32).reshape(-1, 1)"
   ]
  },
  {
   "cell_type": "code",
   "execution_count": 8,
   "metadata": {},
   "outputs": [],
   "source": [
    "class MLP(nn.Module):\n",
    "    def __init__(self, input_size, hidden_layers, output_size):\n",
    "        super(MLP, self).__init__()\n",
    "        layers = []\n",
    "        # self.in_to_hid = nn.Linear(input_size, hidden_size)\n",
    "        # self.hid_to_hid = nn.Linear(hidden_size, hidden_size)\n",
    "        # self.hid_to_out = nn.Linear(hidden_size, output_size)\n",
    "        # layers.append(in_to_hid)\n",
    "        # layers.append(nn.ReLU())5\n",
    "        _in = input_size\n",
    "        for hidden_size in hidden_layers:\n",
    "            _out = hidden_size\n",
    "            layers.append(nn.Linear(_in,_out))\n",
    "            layers.append(nn.ReLU())\n",
    "            _in = _out\n",
    "         \n",
    "        layers.append(nn.Linear(_in,output_size))\n",
    "        layers.append(nn.ReLU())   \n",
    "        self.layers = nn.Sequential(*layers)\n",
    "    def forward(self, X):\n",
    "        return self.layers(X)\n",
    "        \n",
    "    "
   ]
  },
  {
   "cell_type": "code",
   "execution_count": 9,
   "metadata": {},
   "outputs": [],
   "source": [
    "input_size = X_train.shape[1]\n",
    "hidden_layers = []\n",
    "for i in range (1): #20 layers\n",
    "    hidden_layers.append(64)\n",
    "    hidden_layers.append(32)\n",
    "output_size = 1\n",
    "learning_rate = 0.0001\n",
    "num_epochs = 10\n",
    "batch_size = 64\n",
    "dropout_prob = 0.2"
   ]
  },
  {
   "cell_type": "code",
   "execution_count": 10,
   "metadata": {},
   "outputs": [],
   "source": [
    "model = MLP(input_size, hidden_layers, output_size)"
   ]
  },
  {
   "cell_type": "code",
   "execution_count": 11,
   "metadata": {},
   "outputs": [],
   "source": [
    "optimizer = optim.Adam(model.parameters(), lr=learning_rate)\n",
    "# optimizer = optim.SGD(model.parameters(), lr=learning_rate)"
   ]
  },
  {
   "cell_type": "code",
   "execution_count": 12,
   "metadata": {},
   "outputs": [],
   "source": [
    "train_dataset = TensorDataset(X_train, y_train)\n",
    "train_loader = DataLoader(train_dataset, batch_size=batch_size, shuffle=True)\n",
    "test_dataset = TensorDataset(X_test, y_test)\n",
    "test_loader = DataLoader(test_dataset, batch_size=batch_size, shuffle=False)"
   ]
  },
  {
   "cell_type": "code",
   "execution_count": 13,
   "metadata": {},
   "outputs": [],
   "source": [
    "def MSE_Loss(y_pred, y_target):\n",
    "    return torch.mean((y_target-y_pred)**2)\n",
    "    \n",
    "def MAE_Loss(y_pred, y_target):\n",
    "    return torch.mean(np.abs(y_target - y_pred))\n",
    "\n",
    "def R_squared_Loss(y_pred, y_target):\n",
    "    a = ((y_target - y_pred)**2).sum()\n",
    "    b = ((y_target - torch.mean(y_target))**2).sum()\n",
    "    return 1 - (a / b)"
   ]
  },
  {
   "cell_type": "code",
   "execution_count": 14,
   "metadata": {},
   "outputs": [
    {
     "name": "stdout",
     "output_type": "stream",
     "text": [
      "1 :  67.52194738\n",
      "2 :  0.50003897\n",
      "3 :  0.50003897\n",
      "4 :  0.50003897\n",
      "5 :  0.50003897\n",
      "6 :  0.50003897\n",
      "7 :  0.50003897\n",
      "8 :  0.50003897\n",
      "9 :  0.50003897\n",
      "10 :  0.50003897\n"
     ]
    }
   ],
   "source": [
    "losses = []\n",
    "for epoch in range(num_epochs):\n",
    "    model.train()\n",
    "    total_loss = 0.0\n",
    "    for inputs, targets in train_loader:\n",
    "        optimizer.zero_grad()\n",
    "        outputs = model(inputs)\n",
    "        \n",
    "        loss = MSE_Loss(outputs, targets)\n",
    "        loss.backward()\n",
    "        optimizer.step()\n",
    "        total_loss += loss.item() * inputs.size(0)\n",
    "    losses.append(total_loss/ len(train_loader.dataset))\n",
    "    epoch_loss = total_loss / len(train_loader.dataset)\n",
    "    print(epoch+1, \": \", round(epoch_loss, 8))"
   ]
  },
  {
   "cell_type": "code",
   "execution_count": 15,
   "metadata": {},
   "outputs": [
    {
     "data": {
      "text/plain": [
       "Text(0.5, 0, 'epoch')"
      ]
     },
     "execution_count": 15,
     "metadata": {},
     "output_type": "execute_result"
    },
    {
     "data": {
      "image/png": "[encoded data removed]",
      "text/plain": [
       "<Figure size 640x480 with 1 Axes>"
      ]
     },
     "metadata": {},
     "output_type": "display_data"
    }
   ],
   "source": [
    "plt.plot(range(num_epochs), losses)\n",
    "plt.ylabel('Loss')\n",
    "plt.xlabel('epoch')"
   ]
  },
  {
   "cell_type": "code",
   "execution_count": 16,
   "metadata": {},
   "outputs": [],
   "source": [
    "def plotting(arr, epochs, name):\n",
    "    plt.plot(range(epochs), arr)\n",
    "    plt.ylabel(name)\n",
    "    plt.xlabel('epoch')\n",
    "\n",
    "def plot_losses(losses, epochs):\n",
    "    plt.figure(figsize=(8, 5))\n",
    "    plt.plot(range(epochs), losses, color='blue', label='Loss')\n",
    "    plt.xlabel('Epochs')\n",
    "    plt.ylabel('Loss')\n",
    "    plt.title('Losses over Epochs')\n",
    "    plt.legend()\n",
    "    plt.grid(True)\n",
    "    plt.show()\n",
    "\n",
    "def plot_accuracies(accuracies, epochs):\n",
    "    plt.figure(figsize=(8, 5))\n",
    "    plt.plot(range(epochs), accuracies, color='red', label='Accuracy')\n",
    "    plt.xlabel('Epochs')\n",
    "    plt.ylabel('Accuracy')\n",
    "    plt.title('Accuracies over Epochs')\n",
    "    plt.legend()\n",
    "    plt.grid(True)\n",
    "    plt.show()"
   ]
  }
 ],
 "metadata": {
  "kernelspec": {
   "display_name": "Python 3 (ipykernel)",
   "language": "python",
   "name": "python3"
  },
  "language_info": {
   "codemirror_mode": {
    "name": "ipython",
    "version": 3
   },
   "file_extension": ".py",
   "mimetype": "text/x-python",
   "name": "python",
   "nbconvert_exporter": "python",
   "pygments_lexer": "ipython3",
   "version": "3.12.1"
  }
 },
 "nbformat": 4,
 "nbformat_minor": 4
}
